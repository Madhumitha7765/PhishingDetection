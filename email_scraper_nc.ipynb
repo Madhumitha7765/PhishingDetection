{
 "cells": [
  {
   "cell_type": "code",
   "execution_count": 1,
   "metadata": {
    "collapsed": true
   },
   "outputs": [],
   "source": [
    "import mailbox\n",
    "import pandas as pd\n",
    "from bs4 import BeautifulSoup, SoupStrainer\n",
    "import re\n",
    "import os\n",
    "import string\n",
    "import random\n",
    "import time\n",
    "import requests\n",
    "import pprint\n",
    "import urllib.request\n",
    "from selenium import webdriver\n",
    "from selenium.webdriver.support.ui import WebDriverWait\n",
    "from selenium.webdriver.support import expected_conditions as EC\n",
    "from selenium.webdriver.common.by import By\n",
    "from selenium.common.exceptions import TimeoutException"
   ]
  },
  {
   "cell_type": "code",
   "execution_count": 2,
   "metadata": {
    "collapsed": true
   },
   "outputs": [],
   "source": [
    "def split_sentence(text):\n",
    "    tokenizer = nltk.data.load('tokenizers/punkt/english.pickle')\n",
    "    content = '\\n'.join(tokenizer.tokenize(text))\n",
    "    return content"
   ]
  },
  {
   "cell_type": "markdown",
   "metadata": {},
   "source": [
    "https://sitereport.netcraft.com/?url=https://www.paypal.com/us"
   ]
  },
  {
   "cell_type": "markdown",
   "metadata": {},
   "source": [
    "# is_url_malicious"
   ]
  },
  {
   "cell_type": "code",
   "execution_count": 3,
   "metadata": {
    "collapsed": true
   },
   "outputs": [],
   "source": [
    "url_dict  = {}\n",
    "def is_url_malicious(url):\n",
    "    # netcraft - site used for internet data mining\n",
    "    base_url = 'http://toolbar.netcraft.com/site_report?url=' + url\n",
    "    driver = webdriver.Chrome(executable_path=r\"chromedriver.exe\")\n",
    "    driver.get(base_url)\n",
    "    # obtain details from site - html parsed\n",
    "    soup = BeautifulSoup(driver.page_source, 'html.parser')\n",
    "    driver.quit()\n",
    "    try:\n",
    "        # find span tags in extracted html code with classname risk label\n",
    "        risk = soup.find(\"span\", class_=\"risk_label\")\n",
    "        risk = risk.get('data-risk')\n",
    "        if(int(risk) > 1):\n",
    "            url_dict[url] = True\n",
    "            return True\n",
    "        url_dict[url] = False\n",
    "        return False\n",
    "    except:\n",
    "        return None"
   ]
  },
  {
   "cell_type": "markdown",
   "metadata": {},
   "source": [
    "# single mail mailicious"
   ]
  },
  {
   "cell_type": "code",
   "execution_count": 4,
   "metadata": {
    "collapsed": true
   },
   "outputs": [],
   "source": [
    "#this is finding the urls. you can change the name of the function\n",
    "def single_mail_malicious(message):\n",
    "    \"\"\"\n",
    "    input: a single mail\n",
    "    output: true if the mail contains malicious link, false other wise, None when the mail has a wrong format\n",
    "\n",
    "    Given give a single mail, perform link analysis, and check whether it contains malicious link or not\n",
    "    \"\"\"\n",
    "    body = None\n",
    "    links_list = list()\n",
    "    if message.is_multipart():\n",
    "        for part in message.walk():\n",
    "            if part.is_multipart():\n",
    "                for subpart in part.walk():\n",
    "                    if 'text/html' in subpart.get_content_type():\n",
    "                        body = subpart\n",
    "                    elif subpart.get_content_type() == 'text/plain':\n",
    "                        body = subpart\n",
    "                    else:\n",
    "                        return None\n",
    "            elif 'text/html' in part.get_content_type():\n",
    "                body = part\n",
    "            elif part.get_content_type() == 'text/plain':\n",
    "                body = part\n",
    "            else:\n",
    "                return None\n",
    "\n",
    "    elif 'text/html' in message.get_content_type():\n",
    "        body = message\n",
    "    elif message.get_content_type() == 'text/plain':\n",
    "        body = message\n",
    "    else:\n",
    "        return None\n",
    "\n",
    "    if (body == None or body.get_payload() == None):\n",
    "        return None\n",
    "    elif 'text/html' in body.get_content_type() or body.get_content_type() == \"text/plain\":\n",
    "        new_content = \"\"\n",
    "        for sentence in body.get_payload().split(\"\\n\"):\n",
    "            if sentence.endswith('='):\n",
    "                new_content += sentence[0:-1]\n",
    "            else:\n",
    "                new_content += sentence + \"\\n\"\n",
    "\n",
    "        \"\"\"using regex to find links\"\"\"\n",
    "        new_content = str.replace(new_content, '<', ' ')\n",
    "        new_content = str.replace(new_content, '=2e', '.')\n",
    "        new_content = str.replace(new_content, '=2E', '.')\n",
    "        urls = re.findall(r'http[s]?://(?:[a-zA-Z]|[0-9]|[$-_@.&+\\~]|[!*\\(\\),]|(?:%[0-9a-fA-F][0-9a-fA-F]))+', new_content)\n",
    "        for url in urls:\n",
    "            print(url)\n",
    "            try:\n",
    "                status = url_dict[url]\n",
    "                print('caching', url+'...')\n",
    "                return status\n",
    "            except:\n",
    "                if(re.match(r'.*(\\.gif|\\.jpg|\\.jpeg|\\.png)$', url)):\n",
    "                    return False\n",
    "                elif is_url_malicious(url):\n",
    "                    return True\n",
    "                time.sleep(1)\n",
    "            return False\n",
    "\n",
    "\n",
    "\n",
    "    else:\n",
    "        return None\n",
    "    return None"
   ]
  },
  {
   "cell_type": "markdown",
   "metadata": {},
   "source": [
    "# Create mails"
   ]
  },
  {
   "cell_type": "code",
   "execution_count": 5,
   "metadata": {
    "collapsed": true
   },
   "outputs": [],
   "source": [
    "def create_mails(mails, name):\n",
    "    if not os.path.exists('phish/'+name):\n",
    "        os.mkdir('phish/'+name)\n",
    "    for i, message in enumerate(mails):\n",
    "        detected = False\n",
    "        if(single_mail_malicious(message) == True):\n",
    "            detected = True\n",
    "        mail_file = open('phish/'+name+\"/\" + str(i) +\"_\"+str(detected)+\".txt\", \"w\")\n",
    "        body = None\n",
    "        print(i)\n",
    "        tmp = []\n",
    "        tmp.append('Subject: '+str(message['subject']))\n",
    "        if message.is_multipart():\n",
    "            for part in message.walk():\n",
    "                if part.is_multipart():\n",
    "                    for subpart in part.walk():\n",
    "                        if subpart.get_content_type() == 'text/html':\n",
    "                            body = subpart\n",
    "                        elif subpart.get_content_type() == 'text/plain':\n",
    "                            body = subpart\n",
    "                        else:\n",
    "                            continue\n",
    "                elif part.get_content_type() == 'text/html':\n",
    "                    body = part\n",
    "                elif part.get_content_type() == 'text/plain':\n",
    "                    body = part\n",
    "                else:\n",
    "                    continue\n",
    "\n",
    "\n",
    "        elif message.get_content_type() == 'text/html':\n",
    "            body = message\n",
    "        elif message.get_content_type() == 'text/plain':\n",
    "            body = message\n",
    "        else:\n",
    "            continue\n",
    "\n",
    "\n",
    "        if (body == None or body.get_payload == None):\n",
    "            mail_file.write(\"None\" + '\\n')\n",
    "            none_file_set.add(i)\n",
    "        elif body.get_content_type() == 'text/html':\n",
    "\n",
    "            soup = BeautifulSoup(body.get_payload(),\"html.parser\")\n",
    "\n",
    "            content = soup.get_text()\n",
    "            content = content.encode('gbk', 'ignore')\n",
    "            content = content.decode('gbk')\n",
    "            content = content.replace('\\n', ' ')\n",
    "            content = content.replace('= ', '')\n",
    "\n",
    "            for l in content.split():\n",
    "                tmp.append(l.strip())\n",
    "            tmp = ' '.join(tmp)\n",
    "        elif body.get_content_type() == 'text/plain':\n",
    "            tmp = body.get_payload()\n",
    "        else:\n",
    "            continue\n",
    "        try:\n",
    "            splited = split_sentence(tmp)\n",
    "        except:\n",
    "            enders = re.compile('[.!?]')\n",
    "            sentencelist = enders.split(tmp)\n",
    "            splited = '\\n'.join(sentencelist)\n",
    "\n",
    "        try:\n",
    "            mail_file.write(splited)\n",
    "        except:\n",
    "            error_file_set.add(i)"
   ]
  },
  {
   "cell_type": "code",
   "execution_count": 6,
   "metadata": {
    "collapsed": true
   },
   "outputs": [],
   "source": [
    "none_file_set = set()\n",
    "error_file_set = set()"
   ]
  },
  {
   "cell_type": "code",
   "execution_count": 7,
   "metadata": {
    "collapsed": true
   },
   "outputs": [],
   "source": [
    "file_list = ['20051114', 'phishing0', 'phishing1', 'phishing2', 'phishing3']"
   ]
  },
  {
   "cell_type": "markdown",
   "metadata": {},
   "source": [
    "# Baseline"
   ]
  },
  {
   "cell_type": "code",
   "execution_count": null,
   "metadata": {
    "scrolled": true
   },
   "outputs": [],
   "source": [
    "#netcraft site report generation\n",
    "\n",
    "print('Creating email database...')\n",
    "for file in file_list:\n",
    "    print(file)\n",
    "    file_name = file\n",
    "    mbox_file = file_name+'.mbox'\n",
    "    mbox = mailbox.mbox(mbox_file)\n",
    "    mails = [x for x in mbox]\n",
    "    print('Email Count:', len(mails))\n",
    "    create_mails(mails,file)"
   ]
  },
  {
   "cell_type": "code",
   "execution_count": null,
   "metadata": {
    "collapsed": true
   },
   "outputs": [],
   "source": [
    "ham_email_list = ['enron3','enron4', 'enron5', 'enron6']\n"
   ]
  },
  {
   "cell_type": "code",
   "execution_count": null,
   "metadata": {
    "collapsed": true
   },
   "outputs": [],
   "source": [
    "#enron netcraft check\n",
    "def mail_malicious(folder, label):\n",
    "    count = 0\n",
    "    for f in os.listdir(os.path.join(folder,label)):\n",
    "        count += 1\n",
    "        with open(os.path.join(folder, label, f), 'r') as reader:\n",
    "            try:\n",
    "                c = reader.read()\n",
    "            except:\n",
    "                continue\n",
    "            urls = re.findall(r'http[s]?://(?:[a-zA-Z]|[0-9]|[$-_@.&+\\~]|[!*\\(\\),]|(?:%[0-9a-fA-F][0-9a-fA-F]))+', c)\n",
    "            for url in urls:\n",
    "                print(f)\n",
    "                print(url)\n",
    "                try:\n",
    "                    status = url_dict[url]\n",
    "                    print('caching', url+'...')\n",
    "                    os.rename(folder+'/'+label+'/'+f, folder+'/'+label+'/'+f+'_'+status+'.txt')\n",
    "                    return status\n",
    "                except:\n",
    "                    if(re.match(r'.*(\\.gif|\\.jpg|\\.jpeg|\\.png)$', url)):\n",
    "                        return False\n",
    "                    elif is_url_malicious(url):\n",
    "                        os.rename(folder+'/'+label+'/'+f, folder+'/'+label+'/'+f+'_True.txt')\n",
    "                        return True\n",
    "                return False\n",
    "    return None"
   ]
  },
  {
   "cell_type": "code",
   "execution_count": null,
   "metadata": {
    "scrolled": true
   },
   "outputs": [],
   "source": [
    "for folder in ham_email_list:\n",
    "    mail_malicious(folder, 'ham')"
   ]
  },
  {
   "cell_type": "code",
   "execution_count": null,
   "metadata": {
    "collapsed": true
   },
   "outputs": [],
   "source": [
    "for folder in ham_email_list:\n",
    "    mail_malicious(folder, 'spam')"
   ]
  }
 ],
 "metadata": {
  "kernelspec": {
   "display_name": "Python 3",
   "language": "python",
   "name": "python3"
  },
  "language_info": {
   "codemirror_mode": {
    "name": "ipython",
    "version": 3
   },
   "file_extension": ".py",
   "mimetype": "text/x-python",
   "name": "python",
   "nbconvert_exporter": "python",
   "pygments_lexer": "ipython3",
   "version": "3.8.3"
  }
 },
 "nbformat": 4,
 "nbformat_minor": 2
}
